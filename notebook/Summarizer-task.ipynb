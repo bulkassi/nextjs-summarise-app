{
 "cells": [
  {
   "cell_type": "markdown",
   "id": "ed59e13f-6285-4900-b4d4-30e128a99f66",
   "metadata": {},
   "source": [
    "# Суммаризатор видео"
   ]
  },
  {
   "cell_type": "markdown",
   "id": "fb1d06f2-30ee-459f-84e5-999a36afd3a2",
   "metadata": {},
   "source": [
    "## 0. Устанавливаем необходимые зависимости"
   ]
  },
  {
   "cell_type": "code",
   "execution_count": null,
   "id": "2285e671-66db-4346-a27e-52b37fffe3df",
   "metadata": {},
   "outputs": [],
   "source": [
    "#!pip install yt-dlp moviepy ffmpeg-python transformers[sentencepiece] faster-whisper torch"
   ]
  },
  {
   "cell_type": "markdown",
   "id": "c361ea19-92d0-4b3c-afc2-d876358e4459",
   "metadata": {},
   "source": [
    "## 1. Скачиваем видео по ссылке"
   ]
  },
  {
   "cell_type": "code",
   "execution_count": 7,
   "id": "1417e945-cbcc-4d94-8c57-82b2613a15ae",
   "metadata": {},
   "outputs": [],
   "source": [
    "from pathlib import Path\n",
    "import yt_dlp as ytdl\n",
    "\n",
    "def download_video(url: str, out_dir: str = \"downloads\") -> Path:\n",
    "    out_dir_p = Path(out_dir)\n",
    "    out_dir_p.mkdir(parents=True, exist_ok=True)\n",
    "    ydl_opts = {\n",
    "        'outtmpl': str(out_dir_p / '%(title)s.%(ext)s'),\n",
    "        'format': 'bestvideo+bestaudio/best',\n",
    "        'noplaylist': True,\n",
    "        'quiet': True,\n",
    "        'no_warnings': True,\n",
    "    }\n",
    "    with ytdl.YoutubeDL(ydl_opts) as ydl:\n",
    "        info = ydl.extract_info(url, download=True)\n",
    "        # инфа содержит 'title' и 'ext'\n",
    "        filename = ydl.prepare_filename(info)\n",
    "    return Path(filename)"
   ]
  },
  {
   "cell_type": "code",
   "execution_count": 2,
   "id": "aa1df6a7-c701-4bae-bd77-a49bce3c2872",
   "metadata": {},
   "outputs": [
    {
     "name": "stdout",
     "output_type": "stream",
     "text": [
      "                                                         "
     ]
    },
    {
     "data": {
      "text/plain": [
       "WindowsPath('downloads/Пример красоты математики ⧸ Голосовое сообщение ⧸ Савватеев⧸ Мацан #математика #shorts.webm')"
      ]
     },
     "execution_count": 2,
     "metadata": {},
     "output_type": "execute_result"
    }
   ],
   "source": [
    "download_video('https://www.youtube.com/shorts/n5M0lxa_Zys')"
   ]
  },
  {
   "cell_type": "markdown",
   "id": "4345a607-561b-409c-a87f-178ad85786ad",
   "metadata": {},
   "source": [
    "## 2. Извлечение аудио"
   ]
  },
  {
   "cell_type": "code",
   "execution_count": 8,
   "id": "88d230e9-6a9e-4263-b643-026e37f735c7",
   "metadata": {},
   "outputs": [],
   "source": [
    "from moviepy import VideoFileClip\n",
    "import ffmpeg\n",
    "\n",
    "def extract_audio_to_wav(video_path: Path, out_wav: str = None, sr: int = 16000) -> Path:\n",
    "    video_path = Path(video_path)\n",
    "    if out_wav is None:\n",
    "        out_wav = video_path.with_suffix('.wav')\n",
    "    out_wav = Path(out_wav)\n",
    "\n",
    "    clip = VideoFileClip(str(video_path))\n",
    "    tmp_audio = video_path.with_suffix('.temp_audio.wav')\n",
    "    clip.audio.write_audiofile(str(tmp_audio), fps=sr)\n",
    "    clip.close()\n",
    "\n",
    "    stream = ffmpeg.input(str(tmp_audio))\n",
    "    stream = ffmpeg.output(stream, str(out_wav), ac=1, ar=sr)\n",
    "    ffmpeg.run(stream, overwrite_output=True, quiet=True)\n",
    "\n",
    "    try:\n",
    "        os.remove(tmp_audio)\n",
    "    except Exception:\n",
    "        pass\n",
    "\n",
    "    return out_wav"
   ]
  },
  {
   "cell_type": "code",
   "execution_count": 4,
   "id": "4e3e330d-3631-4f17-9791-b76a40ddb459",
   "metadata": {},
   "outputs": [
    {
     "name": "stdout",
     "output_type": "stream",
     "text": [
      "MoviePy - Writing audio in downloads\\Пример красоты математики ⧸ Голосовое сообщение ⧸ Савватеев⧸ Мацан #математика #shorts.temp_audio.wav\n"
     ]
    },
    {
     "name": "stderr",
     "output_type": "stream",
     "text": [
      "                                                                                                                       "
     ]
    },
    {
     "name": "stdout",
     "output_type": "stream",
     "text": [
      "MoviePy - Done.\n"
     ]
    },
    {
     "name": "stderr",
     "output_type": "stream",
     "text": []
    },
    {
     "data": {
      "text/plain": [
       "WindowsPath('downloads/Пример красоты математики ⧸ Голосовое сообщение ⧸ Савватеев⧸ Мацан #математика #shorts.wav')"
      ]
     },
     "execution_count": 4,
     "metadata": {},
     "output_type": "execute_result"
    }
   ],
   "source": [
    "extract_audio_to_wav('downloads/Пример красоты математики ⧸ Голосовое сообщение ⧸ Савватеев⧸ Мацан #математика #shorts.webm')"
   ]
  },
  {
   "cell_type": "markdown",
   "id": "12745ec7-bfd3-410e-9996-b004058c9d0d",
   "metadata": {},
   "source": [
    "## 3. Траскрибация аудио"
   ]
  },
  {
   "cell_type": "code",
   "execution_count": 9,
   "id": "7f817530-ba35-4d85-acb3-631659f09503",
   "metadata": {},
   "outputs": [],
   "source": [
    "from faster_whisper import WhisperModel\n",
    "\n",
    "def transcribe_audio_wisper(audio_path: Path, model_size: str = 'small', language: str  = 'ru', task: str = 'transcribe') -> str:\n",
    "    model = WhisperModel(model_size, device='cpu', compute_type='float32')\n",
    "    segments, info = model.transcribe(str(audio_path), beam_size=5, language=language, task=task)\n",
    "\n",
    "    texts = []\n",
    "    for segment in segments:\n",
    "        texts.append(segment.text)\n",
    "    full_text = ' '.join(texts)\n",
    "    return full_text"
   ]
  },
  {
   "cell_type": "code",
   "execution_count": 10,
   "id": "476c54f2-b6ca-4802-829e-992e3bf583dd",
   "metadata": {},
   "outputs": [],
   "source": [
    "text = transcribe_audio_wisper('downloads/Пример красоты математики ⧸ Голосовое сообщение ⧸ Савватеев⧸ Мацан #математика #shorts.wav')"
   ]
  },
  {
   "cell_type": "code",
   "execution_count": 11,
   "id": "6f203337-5dad-4f1c-a04f-78febc84babe",
   "metadata": {},
   "outputs": [
    {
     "data": {
      "text/plain": [
       "' Дайте пример, красоты и математики.  Ты видел построение пятиугольника циркулем и линейкой?  Да.  Видел, да?  То есть вот этот треугольник берется 72-72-36,  проводится без сектриса, вот здесь равнобедленный,  вот здесь равнобедленный подобно исходному,  вот это равно этому, равно этому,  после чего это все обозначается за х,  возникает золотое сечение в отношении вот этих двух сторон.  Мы его строим циркулем и линейкой и строим пятиугольник.  Ну, по-моему, это божественно.  Вот честно, то есть я не знаю,  я когда показал эту тему Лебедеву,  а он говорил мне, что золотое сечение — это переоцененный объект,  вообще, оно мне вообще не нужно, это все это...  Много раз вообще это в интернете говорил из пользы всякую веселую лексику.  Вот, и вот когда мы с ним встречались,  у нас был с ним коллап,  который тоже такой довольно популярный уже под миллион просмотров,  и я могу сейчас тебе покажу, как это красиво на самом деле.  И он признал, что это действительно красиво.  То есть это божественная вещь.'"
      ]
     },
     "execution_count": 11,
     "metadata": {},
     "output_type": "execute_result"
    }
   ],
   "source": [
    "text"
   ]
  },
  {
   "cell_type": "code",
   "execution_count": 12,
   "id": "65e55821-b0cd-4767-af30-ba8c755dbd45",
   "metadata": {},
   "outputs": [
    {
     "name": "stdout",
     "output_type": "stream",
     "text": [
      "Input text length (characters): 1011\n"
     ]
    }
   ],
   "source": [
    "print(f\"Input text length (characters): {len(text)}\")"
   ]
  },
  {
   "cell_type": "markdown",
   "id": "0ab9fa96-1357-4b12-a837-dcc49af2f59d",
   "metadata": {},
   "source": [
    "## 4. Суммаризация текста"
   ]
  },
  {
   "cell_type": "code",
   "execution_count": 13,
   "id": "3da13b74-c854-4684-89e3-5fdeed10a551",
   "metadata": {},
   "outputs": [],
   "source": [
    "def chunk_text(text: str, max_chars: int = 3000):\n",
    "    chunks = []\n",
    "    start = 0\n",
    "    while start < len(text):\n",
    "        end = start + max_chars\n",
    "        chunks.append(text[start:end])\n",
    "        start = end\n",
    "    return chunks"
   ]
  },
  {
   "cell_type": "code",
   "execution_count": 16,
   "id": "c6b67b9a-385e-418e-88f6-1dc6d7f18ea6",
   "metadata": {},
   "outputs": [],
   "source": [
    "from transformers import pipeline\n",
    "\n",
    "def summarize_text(text: str, model_name: str, max_chunk_chars: int = 3000) -> str:\n",
    "    summarizer = pipeline('summarization', model=model_name, truncation=True)\n",
    "    chunks = chunk_text(text, max_chars=max_chunk_chars)\n",
    "    summaries = []\n",
    "    for i, ch in enumerate(chunks):\n",
    "        res = summarizer(ch, max_length=200, min_length=30, do_sample=False)\n",
    "        summaries.append(res[0]['summary_text'])\n",
    "\n",
    "    if len(summaries) > 1:\n",
    "        joined = ' '.join(summaries)\n",
    "        res2 = summarizer(joined, max_length=200, min_length=50, do_sample=False)\n",
    "        return res2[0]['summary_text']\n",
    "    else:\n",
    "        return summaries[0]"
   ]
  },
  {
   "cell_type": "code",
   "execution_count": 17,
   "id": "276df193-154a-4895-b480-d9d82948509a",
   "metadata": {},
   "outputs": [
    {
     "name": "stderr",
     "output_type": "stream",
     "text": [
      "Device set to use cpu\n",
      "Asking to truncate to max_length but no maximum length is provided and the model has no predefined maximum length. Default to no truncation.\n"
     ]
    },
    {
     "data": {
      "text/plain": [
       "'**Необходимость золотого сечения в отношении вот этих двух сторон заключается в том, что они строим циркулем и линейкой.** Этот треугольник берется 72-72-36, который проводится без сектриса, и здесь равнобедлен, что приводит к золотому сечению. Лебедев говорил, что золотое сечение — это переоцененный объект, поэтому ему это не нужно. Он также был популярен под миллион просмотров, и он признал, что это божественная вещь.'"
      ]
     },
     "execution_count": 17,
     "metadata": {},
     "output_type": "execute_result"
    }
   ],
   "source": [
    "summarize_text(text, '2KKLabs/Lacia_sum_small_v1')"
   ]
  },
  {
   "cell_type": "code",
   "execution_count": null,
   "id": "93082a97-2d10-4cf1-92dd-0e5bcfefcbe7",
   "metadata": {},
   "outputs": [],
   "source": []
  }
 ],
 "metadata": {
  "kernelspec": {
   "display_name": "Python 3 (ipykernel)",
   "language": "python",
   "name": "python3"
  },
  "language_info": {
   "codemirror_mode": {
    "name": "ipython",
    "version": 3
   },
   "file_extension": ".py",
   "mimetype": "text/x-python",
   "name": "python",
   "nbconvert_exporter": "python",
   "pygments_lexer": "ipython3",
   "version": "3.13.9"
  }
 },
 "nbformat": 4,
 "nbformat_minor": 5
}
